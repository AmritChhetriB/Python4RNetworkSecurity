{
 "cells": [
  {
   "cell_type": "markdown",
   "id": "fa989a93",
   "metadata": {},
   "source": [
    "#### Quantum Computing and QML Coding Environment for Cyber Security by Amrit Chhetri"
   ]
  },
  {
   "cell_type": "code",
   "execution_count": 1,
   "id": "113571a5",
   "metadata": {},
   "outputs": [],
   "source": [
    "import qiskit as qk\n",
    "import numpy as np\n",
    "import matplotlib.pyplot as mplt"
   ]
  },
  {
   "cell_type": "code",
   "execution_count": 4,
   "id": "0b07bdf5",
   "metadata": {},
   "outputs": [],
   "source": [
    "cirqt = qk.QuantumCircuit(3,4)"
   ]
  },
  {
   "cell_type": "code",
   "execution_count": 5,
   "id": "095a07b3",
   "metadata": {},
   "outputs": [
    {
     "data": {
      "image/png": "[encoded data removed]",
      "text/plain": [
       "<Figure size 162.08x367.889 with 1 Axes>"
      ]
     },
     "execution_count": 5,
     "metadata": {},
     "output_type": "execute_result"
    }
   ],
   "source": [
    "cirqt.draw(\"mpl\")"
   ]
  },
  {
   "cell_type": "code",
   "execution_count": null,
   "id": "370629b1",
   "metadata": {},
   "outputs": [],
   "source": []
  }
 ],
 "metadata": {
  "kernelspec": {
   "display_name": "Python 3 (ipykernel)",
   "language": "python",
   "name": "python3"
  },
  "language_info": {
   "codemirror_mode": {
    "name": "ipython",
    "version": 3
   },
   "file_extension": ".py",
   "mimetype": "text/x-python",
   "name": "python",
   "nbconvert_exporter": "python",
   "pygments_lexer": "ipython3",
   "version": "3.8.0"
  }
 },
 "nbformat": 4,
 "nbformat_minor": 5
}
